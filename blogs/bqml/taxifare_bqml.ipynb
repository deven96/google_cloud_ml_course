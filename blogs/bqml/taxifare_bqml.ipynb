{
 "cells": [
  {
   "cell_type": "markdown",
   "metadata": {
    "deletable": true,
    "editable": true
   },
   "source": [
    "<h1> Structured data prediction using BigQuery ML </h1>\n",
    "\n",
    "This notebook illustrates:\n",
    "<ol>\n",
    "<li> Training Machine Learning models using BQML\n",
    "<li> Predicting with model\n",
    "<li> Using spatial queries in BigQuery\n",
    "<li> Building a linear regression model with feature crosses\n",
    "</ol>\n",
    "\n",
    "The goal is to predict taxifare given the starting and ending points."
   ]
  },
  {
   "cell_type": "code",
   "execution_count": 1,
   "metadata": {
    "collapsed": true,
    "deletable": true,
    "editable": true
   },
   "outputs": [],
   "source": [
    "# change these to try this notebook out\n",
    "PROJECT = 'cloud-training-demos'"
   ]
  },
  {
   "cell_type": "code",
   "execution_count": 2,
   "metadata": {
    "collapsed": true,
    "deletable": true,
    "editable": true
   },
   "outputs": [],
   "source": [
    "import os\n",
    "os.environ['PROJECT'] = PROJECT"
   ]
  },
  {
   "cell_type": "code",
   "execution_count": 3,
   "metadata": {
    "collapsed": false,
    "deletable": true,
    "editable": true
   },
   "outputs": [
    {
     "name": "stderr",
     "output_type": "stream",
     "text": [
      "Updated property [core/project].\n"
     ]
    }
   ],
   "source": [
    "%bash\n",
    "gcloud config set project $PROJECT"
   ]
  },
  {
   "cell_type": "markdown",
   "metadata": {
    "deletable": true,
    "editable": true
   },
   "source": [
    "## Create BigQuery output dataset\n",
    "\n",
    "If necessary, create a BigQuery dataset to store the trained model and artifacts of training.\n",
    "(you can also do this from the GCP web console)"
   ]
  },
  {
   "cell_type": "code",
   "execution_count": 4,
   "metadata": {
    "collapsed": false,
    "deletable": true,
    "editable": true
   },
   "outputs": [],
   "source": [
    "%%bash\n",
    "#bq mk demos"
   ]
  },
  {
   "cell_type": "markdown",
   "metadata": {
    "deletable": true,
    "editable": true
   },
   "source": [
    "## Create BigQuery training dataset\n",
    "\n",
    "Please see [this notebook](https://github.com/GoogleCloudPlatform/training-data-analyst/blob/master/courses/machine_learning/datasets/create_datasets.ipynb) for more context on this problem and how the features were chosen."
   ]
  },
  {
   "cell_type": "code",
   "execution_count": 5,
   "metadata": {
    "collapsed": true,
    "deletable": true,
    "editable": true
   },
   "outputs": [],
   "source": [
    "import google.datalab.bigquery as bq\n",
    "import seaborn as sns\n",
    "import pandas as pd\n",
    "import numpy as np\n",
    "import shutil"
   ]
  },
  {
   "cell_type": "code",
   "execution_count": 6,
   "metadata": {
    "collapsed": false,
    "deletable": true,
    "editable": true
   },
   "outputs": [],
   "source": [
    "def create_input_dataset(split, sample=1000):\n",
    "  \"\"\"\n",
    "  split is TRAIN or EVAL\n",
    "  sample=1000 pulls 1/1000 of full dataset\n",
    "  \"\"\"\n",
    "  \n",
    "  query=\"\"\"\n",
    "  WITH params AS (\n",
    "    SELECT\n",
    "    1 AS TRAIN,\n",
    "    2 AS EVAL\n",
    "    ),\n",
    "\n",
    "  daynames AS\n",
    "    (SELECT ['Sun', 'Mon', 'Tues', 'Wed', 'Thurs', 'Fri', 'Sat'] AS daysofweek),\n",
    "\n",
    "  taxitrips AS (\n",
    "  SELECT\n",
    "    (tolls_amount + fare_amount) AS total_fare,\n",
    "    daysofweek[ORDINAL(EXTRACT(DAYOFWEEK FROM pickup_datetime))] AS dayofweek,\n",
    "    EXTRACT(HOUR FROM pickup_datetime) AS hourofday,\n",
    "    pickup_longitude AS pickuplon,\n",
    "    pickup_latitude AS pickuplat,\n",
    "    dropoff_longitude AS dropofflon,\n",
    "    dropoff_latitude AS dropofflat,\n",
    "    passenger_count AS passengers\n",
    "  FROM\n",
    "    `nyc-tlc.yellow.trips`, daynames, params\n",
    "  WHERE\n",
    "    trip_distance > 0 AND fare_amount > 0\n",
    "    AND MOD(ABS(FARM_FINGERPRINT(CAST(pickup_datetime AS STRING))),{0}) = params.{1}\n",
    "  )\n",
    "\n",
    "  SELECT *\n",
    "  FROM taxitrips\n",
    "  \"\"\".format(sample, split)\n",
    "  \n",
    "  return query"
   ]
  },
  {
   "cell_type": "markdown",
   "metadata": {
    "deletable": true,
    "editable": true
   },
   "source": [
    "Note a few things about the query:\n",
    "* The main part of the query is at the bottom: (SELECT * from taxitrips).\n",
    "* taxitrips does the bulk of the extraction for the NYC dataset, with the SELECT containing my training features and label.\n",
    "* The WHERE removes data that I don't want to train on.\n",
    "* The WHERE also includes a sampling clause to pick up only 1/1000th of the data\n",
    "* I define a variable called TRAIN so that I can quickly build an independent EVAL set."
   ]
  },
  {
   "cell_type": "code",
   "execution_count": 7,
   "metadata": {
    "collapsed": false,
    "deletable": true,
    "editable": true
   },
   "outputs": [
    {
     "name": "stdout",
     "output_type": "stream",
     "text": [
      "\n",
      "  WITH params AS (\n",
      "    SELECT\n",
      "    1 AS TRAIN,\n",
      "    2 AS EVAL\n",
      "    ),\n",
      "\n",
      "  daynames AS\n",
      "    (SELECT ['Sun', 'Mon', 'Tues', 'Wed', 'Thurs', 'Fri', 'Sat'] AS daysofweek),\n",
      "\n",
      "  taxitrips AS (\n",
      "  SELECT\n",
      "    (tolls_amount + fare_amount) AS total_fare,\n",
      "    daysofweek[ORDINAL(EXTRACT(DAYOFWEEK FROM pickup_datetime))] AS dayofweek,\n",
      "    EXTRACT(HOUR FROM pickup_datetime) AS hourofday,\n",
      "    pickup_longitude AS pickuplon,\n",
      "    pickup_latitude AS pickuplat,\n",
      "    dropoff_longitude AS dropofflon,\n",
      "    dropoff_latitude AS dropofflat,\n",
      "    passenger_count AS passengers\n",
      "  FROM\n",
      "    `nyc-tlc.yellow.trips`, daynames, params\n",
      "  WHERE\n",
      "    trip_distance > 0 AND fare_amount > 0\n",
      "    AND MOD(ABS(FARM_FINGERPRINT(CAST(pickup_datetime AS STRING))),1000) = params.TRAIN\n",
      "  )\n",
      "\n",
      "  SELECT *\n",
      "  FROM taxitrips\n",
      "  \n"
     ]
    }
   ],
   "source": [
    "query = create_input_dataset('TRAIN')\n",
    "print query\n",
    "trips = bq.Query(query + \" LIMIT 1000\").execute().result().to_dataframe()"
   ]
  },
  {
   "cell_type": "code",
   "execution_count": 8,
   "metadata": {
    "collapsed": false,
    "deletable": true,
    "editable": true
   },
   "outputs": [
    {
     "data": {
      "text/html": [
       "<div>\n",
       "<style scoped>\n",
       "    .dataframe tbody tr th:only-of-type {\n",
       "        vertical-align: middle;\n",
       "    }\n",
       "\n",
       "    .dataframe tbody tr th {\n",
       "        vertical-align: top;\n",
       "    }\n",
       "\n",
       "    .dataframe thead th {\n",
       "        text-align: right;\n",
       "    }\n",
       "</style>\n",
       "<table border=\"1\" class=\"dataframe\">\n",
       "  <thead>\n",
       "    <tr style=\"text-align: right;\">\n",
       "      <th></th>\n",
       "      <th>total_fare</th>\n",
       "      <th>dayofweek</th>\n",
       "      <th>hourofday</th>\n",
       "      <th>pickuplon</th>\n",
       "      <th>pickuplat</th>\n",
       "      <th>dropofflon</th>\n",
       "      <th>dropofflat</th>\n",
       "      <th>passengers</th>\n",
       "    </tr>\n",
       "  </thead>\n",
       "  <tbody>\n",
       "    <tr>\n",
       "      <th>0</th>\n",
       "      <td>13.0</td>\n",
       "      <td>Fri</td>\n",
       "      <td>0</td>\n",
       "      <td>-73.984262</td>\n",
       "      <td>40.724992</td>\n",
       "      <td>-73.949522</td>\n",
       "      <td>40.777053</td>\n",
       "      <td>1</td>\n",
       "    </tr>\n",
       "    <tr>\n",
       "      <th>1</th>\n",
       "      <td>4.0</td>\n",
       "      <td>Fri</td>\n",
       "      <td>0</td>\n",
       "      <td>-73.986167</td>\n",
       "      <td>40.745904</td>\n",
       "      <td>-73.992523</td>\n",
       "      <td>40.740905</td>\n",
       "      <td>3</td>\n",
       "    </tr>\n",
       "    <tr>\n",
       "      <th>2</th>\n",
       "      <td>6.5</td>\n",
       "      <td>Fri</td>\n",
       "      <td>0</td>\n",
       "      <td>-74.007810</td>\n",
       "      <td>40.751522</td>\n",
       "      <td>-74.000550</td>\n",
       "      <td>40.737260</td>\n",
       "      <td>2</td>\n",
       "    </tr>\n",
       "    <tr>\n",
       "      <th>3</th>\n",
       "      <td>12.0</td>\n",
       "      <td>Fri</td>\n",
       "      <td>0</td>\n",
       "      <td>-74.002030</td>\n",
       "      <td>40.728072</td>\n",
       "      <td>-73.999897</td>\n",
       "      <td>40.761337</td>\n",
       "      <td>2</td>\n",
       "    </tr>\n",
       "    <tr>\n",
       "      <th>4</th>\n",
       "      <td>5.3</td>\n",
       "      <td>Fri</td>\n",
       "      <td>0</td>\n",
       "      <td>-73.997625</td>\n",
       "      <td>40.720888</td>\n",
       "      <td>-74.000613</td>\n",
       "      <td>40.730757</td>\n",
       "      <td>4</td>\n",
       "    </tr>\n",
       "  </tbody>\n",
       "</table>\n",
       "</div>"
      ],
      "text/plain": [
       "   total_fare dayofweek  hourofday  pickuplon  pickuplat  dropofflon  \\\n",
       "0        13.0       Fri          0 -73.984262  40.724992  -73.949522   \n",
       "1         4.0       Fri          0 -73.986167  40.745904  -73.992523   \n",
       "2         6.5       Fri          0 -74.007810  40.751522  -74.000550   \n",
       "3        12.0       Fri          0 -74.002030  40.728072  -73.999897   \n",
       "4         5.3       Fri          0 -73.997625  40.720888  -74.000613   \n",
       "\n",
       "   dropofflat  passengers  \n",
       "0   40.777053           1  \n",
       "1   40.740905           3  \n",
       "2   40.737260           2  \n",
       "3   40.761337           2  \n",
       "4   40.730757           4  "
      ]
     },
     "execution_count": 8,
     "metadata": {},
     "output_type": "execute_result"
    }
   ],
   "source": [
    "trips.head()"
   ]
  },
  {
   "cell_type": "code",
   "execution_count": 9,
   "metadata": {
    "collapsed": false,
    "deletable": true,
    "editable": true
   },
   "outputs": [
    {
     "data": {
      "text/html": [
       "<div>\n",
       "<style scoped>\n",
       "    .dataframe tbody tr th:only-of-type {\n",
       "        vertical-align: middle;\n",
       "    }\n",
       "\n",
       "    .dataframe tbody tr th {\n",
       "        vertical-align: top;\n",
       "    }\n",
       "\n",
       "    .dataframe thead th {\n",
       "        text-align: right;\n",
       "    }\n",
       "</style>\n",
       "<table border=\"1\" class=\"dataframe\">\n",
       "  <thead>\n",
       "    <tr style=\"text-align: right;\">\n",
       "      <th></th>\n",
       "      <th>total_fare</th>\n",
       "      <th>hourofday</th>\n",
       "      <th>pickuplon</th>\n",
       "      <th>pickuplat</th>\n",
       "      <th>dropofflon</th>\n",
       "      <th>dropofflat</th>\n",
       "      <th>passengers</th>\n",
       "    </tr>\n",
       "  </thead>\n",
       "  <tbody>\n",
       "    <tr>\n",
       "      <th>count</th>\n",
       "      <td>1000.000000</td>\n",
       "      <td>1000.000000</td>\n",
       "      <td>1000.000000</td>\n",
       "      <td>1000.000000</td>\n",
       "      <td>1000.000000</td>\n",
       "      <td>1000.000000</td>\n",
       "      <td>1000.000000</td>\n",
       "    </tr>\n",
       "    <tr>\n",
       "      <th>mean</th>\n",
       "      <td>11.373800</td>\n",
       "      <td>13.354000</td>\n",
       "      <td>-72.677375</td>\n",
       "      <td>39.984759</td>\n",
       "      <td>-72.749441</td>\n",
       "      <td>40.025319</td>\n",
       "      <td>1.713000</td>\n",
       "    </tr>\n",
       "    <tr>\n",
       "      <th>std</th>\n",
       "      <td>8.977382</td>\n",
       "      <td>6.579664</td>\n",
       "      <td>9.956184</td>\n",
       "      <td>6.260576</td>\n",
       "      <td>9.687158</td>\n",
       "      <td>6.130618</td>\n",
       "      <td>1.348499</td>\n",
       "    </tr>\n",
       "    <tr>\n",
       "      <th>min</th>\n",
       "      <td>2.500000</td>\n",
       "      <td>0.000000</td>\n",
       "      <td>-74.090635</td>\n",
       "      <td>-74.017105</td>\n",
       "      <td>-74.181495</td>\n",
       "      <td>-73.978672</td>\n",
       "      <td>0.000000</td>\n",
       "    </tr>\n",
       "    <tr>\n",
       "      <th>25%</th>\n",
       "      <td>6.100000</td>\n",
       "      <td>9.000000</td>\n",
       "      <td>-73.991706</td>\n",
       "      <td>40.734868</td>\n",
       "      <td>-73.991735</td>\n",
       "      <td>40.732668</td>\n",
       "      <td>1.000000</td>\n",
       "    </tr>\n",
       "    <tr>\n",
       "      <th>50%</th>\n",
       "      <td>8.500000</td>\n",
       "      <td>14.000000</td>\n",
       "      <td>-73.981860</td>\n",
       "      <td>40.752341</td>\n",
       "      <td>-73.979249</td>\n",
       "      <td>40.753582</td>\n",
       "      <td>1.000000</td>\n",
       "    </tr>\n",
       "    <tr>\n",
       "      <th>75%</th>\n",
       "      <td>12.600000</td>\n",
       "      <td>19.000000</td>\n",
       "      <td>-73.967557</td>\n",
       "      <td>40.768614</td>\n",
       "      <td>-73.962593</td>\n",
       "      <td>40.768348</td>\n",
       "      <td>2.000000</td>\n",
       "    </tr>\n",
       "    <tr>\n",
       "      <th>max</th>\n",
       "      <td>83.400000</td>\n",
       "      <td>23.000000</td>\n",
       "      <td>40.708832</td>\n",
       "      <td>40.855083</td>\n",
       "      <td>40.757437</td>\n",
       "      <td>40.889035</td>\n",
       "      <td>6.000000</td>\n",
       "    </tr>\n",
       "  </tbody>\n",
       "</table>\n",
       "</div>"
      ],
      "text/plain": [
       "        total_fare    hourofday    pickuplon    pickuplat   dropofflon  \\\n",
       "count  1000.000000  1000.000000  1000.000000  1000.000000  1000.000000   \n",
       "mean     11.373800    13.354000   -72.677375    39.984759   -72.749441   \n",
       "std       8.977382     6.579664     9.956184     6.260576     9.687158   \n",
       "min       2.500000     0.000000   -74.090635   -74.017105   -74.181495   \n",
       "25%       6.100000     9.000000   -73.991706    40.734868   -73.991735   \n",
       "50%       8.500000    14.000000   -73.981860    40.752341   -73.979249   \n",
       "75%      12.600000    19.000000   -73.967557    40.768614   -73.962593   \n",
       "max      83.400000    23.000000    40.708832    40.855083    40.757437   \n",
       "\n",
       "        dropofflat   passengers  \n",
       "count  1000.000000  1000.000000  \n",
       "mean     40.025319     1.713000  \n",
       "std       6.130618     1.348499  \n",
       "min     -73.978672     0.000000  \n",
       "25%      40.732668     1.000000  \n",
       "50%      40.753582     1.000000  \n",
       "75%      40.768348     2.000000  \n",
       "max      40.889035     6.000000  "
      ]
     },
     "execution_count": 9,
     "metadata": {},
     "output_type": "execute_result"
    }
   ],
   "source": [
    "trips.describe()"
   ]
  },
  {
   "cell_type": "markdown",
   "metadata": {
    "deletable": true,
    "editable": true
   },
   "source": [
    "## Create ML model training query\n",
    "\n",
    "This is the query to train the model"
   ]
  },
  {
   "cell_type": "code",
   "execution_count": 10,
   "metadata": {
    "collapsed": false,
    "deletable": true,
    "editable": true
   },
   "outputs": [],
   "source": [
    "def create_train_query(dataset_query, model_name):\n",
    "  query=\"\"\"\n",
    "CREATE or REPLACE MODEL {0}\n",
    "OPTIONS\n",
    "  (model_type='linear_reg', labels=['total_fare'], min_rel_progress=0.005, ls_init_learn_rate=0.1) AS\n",
    "  \n",
    "  {1}\n",
    "  \n",
    "  \"\"\".format(model_name, dataset_query)\n",
    "  return query"
   ]
  },
  {
   "cell_type": "code",
   "execution_count": 11,
   "metadata": {
    "collapsed": false,
    "deletable": true,
    "editable": true
   },
   "outputs": [
    {
     "name": "stdout",
     "output_type": "stream",
     "text": [
      "\n",
      "CREATE or REPLACE MODEL demos.taxifare_model\n",
      "OPTIONS\n",
      "  (model_type='linear_reg', labels=['total_fare'], min_rel_progress=0.005, ls_init_learn_rate=0.1) AS\n",
      "  \n",
      "  \n",
      "  WITH params AS (\n",
      "    SELECT\n",
      "    1 AS TRAIN,\n",
      "    2 AS EVAL\n",
      "    ),\n",
      "\n",
      "  daynames AS\n",
      "    (SELECT ['Sun', 'Mon', 'Tues', 'Wed', 'Thurs', 'Fri', 'Sat'] AS daysofweek),\n",
      "\n",
      "  taxitrips AS (\n",
      "  SELECT\n",
      "    (tolls_amount + fare_amount) AS total_fare,\n",
      "    daysofweek[ORDINAL(EXTRACT(DAYOFWEEK FROM pickup_datetime))] AS dayofweek,\n",
      "    EXTRACT(HOUR FROM pickup_datetime) AS hourofday,\n",
      "    pickup_longitude AS pickuplon,\n",
      "    pickup_latitude AS pickuplat,\n",
      "    dropoff_longitude AS dropofflon,\n",
      "    dropoff_latitude AS dropofflat,\n",
      "    passenger_count AS passengers\n",
      "  FROM\n",
      "    `nyc-tlc.yellow.trips`, daynames, params\n",
      "  WHERE\n",
      "    trip_distance > 0 AND fare_amount > 0\n",
      "    AND MOD(ABS(FARM_FINGERPRINT(CAST(pickup_datetime AS STRING))),1000) = params.TRAIN\n",
      "  )\n",
      "\n",
      "  SELECT *\n",
      "  FROM taxitrips\n",
      "  \n",
      "  \n",
      "  \n"
     ]
    }
   ],
   "source": [
    "train_query = create_train_query( create_input_dataset('TRAIN'), 'demos.taxifare_model' )\n",
    "print train_query"
   ]
  },
  {
   "cell_type": "markdown",
   "metadata": {
    "deletable": true,
    "editable": true
   },
   "source": [
    "Note a few things about the above query:\n",
    "* CREATE model is a safe way to ensure that you don't overwrite existing models. CREATE or REPLACE will … replace existing models.\n",
    "* I specify my model type. Use linear_reg for regression problems and logistic_reg for classification problems.\n",
    "* I specify that the total_fare column is the label.\n",
    "* I ask that model training stop when the improvement is < 0.5%\n",
    "* I specify the initial learning rate at 0.1 (this is optional, but shows you how to specify any optional parameters)."
   ]
  },
  {
   "cell_type": "markdown",
   "metadata": {
    "deletable": true,
    "editable": true
   },
   "source": [
    "## Train the ML model\n",
    "\n",
    "This will take <b>5-10 min</b>.  Wait for a message of the form \"Job xyz completed\"."
   ]
  },
  {
   "cell_type": "code",
   "execution_count": 12,
   "metadata": {
    "collapsed": false,
    "deletable": true,
    "editable": true
   },
   "outputs": [
    {
     "data": {
      "text/plain": [
       "Job cloud-training-demos/job_NiQk9jF2-X-cvI_UVniMwy-csLVF completed"
      ]
     },
     "execution_count": 12,
     "metadata": {},
     "output_type": "execute_result"
    }
   ],
   "source": [
    "bq.Query(train_query).execute()"
   ]
  },
  {
   "cell_type": "markdown",
   "metadata": {
    "deletable": true,
    "editable": true
   },
   "source": [
    "Once the above job is complete, you can look at the training loss:"
   ]
  },
  {
   "cell_type": "code",
   "execution_count": 13,
   "metadata": {
    "collapsed": false,
    "deletable": true,
    "editable": true
   },
   "outputs": [
    {
     "name": "stdout",
     "output_type": "stream",
     "text": [
      "SELECT iteration, training_loss from demos.taxifare_model_eval\n"
     ]
    },
    {
     "name": "stderr",
     "output_type": "stream",
     "text": [
      "/usr/local/envs/py2env/lib/python2.7/site-packages/matplotlib/font_manager.py:1320: UserWarning: findfont: Font family [u'sans-serif'] not found. Falling back to DejaVu Sans\n",
      "  (prop.get_family(), self.defaultFamily[fontext]))\n"
     ]
    },
    {
     "data": {
      "image/png": "[encoded data removed]",
      "text/plain": [
       "<matplotlib.figure.Figure at 0x7f9ef3704ed0>"
      ]
     },
     "metadata": {},
     "output_type": "display_data"
    }
   ],
   "source": [
    "def show_training_loss(model_name):\n",
    "  query = \"SELECT iteration, training_loss from {0}_eval\".format(model_name)\n",
    "  print query\n",
    "  loss_df = bq.Query(query).execute().result().to_dataframe()\n",
    "  loss_df['training_loss'] = np.sqrt(loss_df['training_loss'])  # mean square error to RMSE\n",
    "  loss_df.plot(x='iteration', y='training_loss');\n",
    "show_training_loss('demos.taxifare_model')"
   ]
  },
  {
   "cell_type": "markdown",
   "metadata": {
    "deletable": true,
    "editable": true
   },
   "source": [
    "## Evaluate the model on an independent dataset\n",
    "\n",
    "Let's look at overall RMSE (notice the use of ML.EVALUATE)"
   ]
  },
  {
   "cell_type": "code",
   "execution_count": 14,
   "metadata": {
    "collapsed": false,
    "deletable": true,
    "editable": true
   },
   "outputs": [
    {
     "name": "stdout",
     "output_type": "stream",
     "text": [
      "\n",
      "SELECT\n",
      "  *,\n",
      "  SQRT( mean_squared_error ) AS rmse\n",
      "FROM\n",
      "  ML.EVALUATE(MODEL demos.taxifare_model,\n",
      "  (\n",
      "  \n",
      "  WITH params AS (\n",
      "    SELECT\n",
      "    1 AS TRAIN,\n",
      "    2 AS EVAL\n",
      "    ),\n",
      "\n",
      "  daynames AS\n",
      "    (SELECT ['Sun', 'Mon', 'Tues', 'Wed', 'Thurs', 'Fri', 'Sat'] AS daysofweek),\n",
      "\n",
      "  taxitrips AS (\n",
      "  SELECT\n",
      "    (tolls_amount + fare_amount) AS total_fare,\n",
      "    daysofweek[ORDINAL(EXTRACT(DAYOFWEEK FROM pickup_datetime))] AS dayofweek,\n",
      "    EXTRACT(HOUR FROM pickup_datetime) AS hourofday,\n",
      "    pickup_longitude AS pickuplon,\n",
      "    pickup_latitude AS pickuplat,\n",
      "    dropoff_longitude AS dropofflon,\n",
      "    dropoff_latitude AS dropofflat,\n",
      "    passenger_count AS passengers\n",
      "  FROM\n",
      "    `nyc-tlc.yellow.trips`, daynames, params\n",
      "  WHERE\n",
      "    trip_distance > 0 AND fare_amount > 0\n",
      "    AND MOD(ABS(FARM_FINGERPRINT(CAST(pickup_datetime AS STRING))),1000) = params.EVAL\n",
      "  )\n",
      "\n",
      "  SELECT *\n",
      "  FROM taxitrips\n",
      "  \n",
      "  ))  \n",
      "  \n"
     ]
    }
   ],
   "source": [
    "def create_eval_query(dataset_query, model_name):\n",
    "  query=\"\"\"\n",
    "SELECT\n",
    "  *,\n",
    "  SQRT( mean_squared_error ) AS rmse\n",
    "FROM\n",
    "  ML.EVALUATE(MODEL {0},\n",
    "  (\n",
    "  {1}\n",
    "  ))  \n",
    "  \"\"\".format(model_name, dataset_query)\n",
    "  return query\n",
    "eval_query = create_eval_query( create_input_dataset('EVAL'), 'demos.taxifare_model' )\n",
    "print eval_query"
   ]
  },
  {
   "cell_type": "code",
   "execution_count": 15,
   "metadata": {
    "collapsed": false,
    "deletable": true,
    "editable": true
   },
   "outputs": [
    {
     "data": {
      "text/html": [
       "<div>\n",
       "<style scoped>\n",
       "    .dataframe tbody tr th:only-of-type {\n",
       "        vertical-align: middle;\n",
       "    }\n",
       "\n",
       "    .dataframe tbody tr th {\n",
       "        vertical-align: top;\n",
       "    }\n",
       "\n",
       "    .dataframe thead th {\n",
       "        text-align: right;\n",
       "    }\n",
       "</style>\n",
       "<table border=\"1\" class=\"dataframe\">\n",
       "  <thead>\n",
       "    <tr style=\"text-align: right;\">\n",
       "      <th></th>\n",
       "      <th>mean_absolute_error</th>\n",
       "      <th>mean_squared_error</th>\n",
       "      <th>mean_squared_log_error</th>\n",
       "      <th>median_absolute_error</th>\n",
       "      <th>r2_score</th>\n",
       "      <th>explained_variance</th>\n",
       "      <th>rmse</th>\n",
       "    </tr>\n",
       "  </thead>\n",
       "  <tbody>\n",
       "    <tr>\n",
       "      <th>0</th>\n",
       "      <td>5.906421</td>\n",
       "      <td>89.814527</td>\n",
       "      <td>0.322149</td>\n",
       "      <td>4.467545</td>\n",
       "      <td>0.000827</td>\n",
       "      <td>0.000881</td>\n",
       "      <td>9.477053</td>\n",
       "    </tr>\n",
       "  </tbody>\n",
       "</table>\n",
       "</div>"
      ],
      "text/plain": [
       "   mean_absolute_error  mean_squared_error  mean_squared_log_error  \\\n",
       "0             5.906421           89.814527                0.322149   \n",
       "\n",
       "   median_absolute_error  r2_score  explained_variance      rmse  \n",
       "0               4.467545  0.000827            0.000881  9.477053  "
      ]
     },
     "execution_count": 15,
     "metadata": {},
     "output_type": "execute_result"
    }
   ],
   "source": [
    "eval_df = bq.Query(eval_query).execute().result().to_dataframe()\n",
    "eval_df"
   ]
  },
  {
   "cell_type": "markdown",
   "metadata": {
    "deletable": true,
    "editable": true
   },
   "source": [
    "We can write a more sophisticated evaluation that computes the mean absolute percent error (MAPE) and group it by the taxifare to see how the errors vary with amount (notice the use of ML.PREDICT):"
   ]
  },
  {
   "cell_type": "code",
   "execution_count": 16,
   "metadata": {
    "collapsed": false,
    "deletable": true,
    "editable": true
   },
   "outputs": [
    {
     "name": "stdout",
     "output_type": "stream",
     "text": [
      "\n",
      "WITH predictions AS (\n",
      "  SELECT\n",
      "    total_fare,\n",
      "    ABS(total_fare - predicted_total_fare)/total_fare AS error,\n",
      "    ROUND(total_fare) AS dollars\n",
      "  FROM\n",
      "  ML.PREDICT(MODEL demos.taxifare_model,\n",
      "  (\n",
      "  \n",
      "  WITH params AS (\n",
      "    SELECT\n",
      "    1 AS TRAIN,\n",
      "    2 AS EVAL\n",
      "    ),\n",
      "\n",
      "  daynames AS\n",
      "    (SELECT ['Sun', 'Mon', 'Tues', 'Wed', 'Thurs', 'Fri', 'Sat'] AS daysofweek),\n",
      "\n",
      "  taxitrips AS (\n",
      "  SELECT\n",
      "    (tolls_amount + fare_amount) AS total_fare,\n",
      "    daysofweek[ORDINAL(EXTRACT(DAYOFWEEK FROM pickup_datetime))] AS dayofweek,\n",
      "    EXTRACT(HOUR FROM pickup_datetime) AS hourofday,\n",
      "    pickup_longitude AS pickuplon,\n",
      "    pickup_latitude AS pickuplat,\n",
      "    dropoff_longitude AS dropofflon,\n",
      "    dropoff_latitude AS dropofflat,\n",
      "    passenger_count AS passengers\n",
      "  FROM\n",
      "    `nyc-tlc.yellow.trips`, daynames, params\n",
      "  WHERE\n",
      "    trip_distance > 0 AND fare_amount > 0\n",
      "    AND MOD(ABS(FARM_FINGERPRINT(CAST(pickup_datetime AS STRING))),1000) = params.EVAL\n",
      "  )\n",
      "\n",
      "  SELECT *\n",
      "  FROM taxitrips\n",
      "  \n",
      "  )))\n",
      "\n",
      "SELECT\n",
      "  dollars,\n",
      "  -- mean absolute percent error\n",
      "  AVG(100 * error) AS MAPE\n",
      "FROM predictions\n",
      "GROUP BY dollars\n",
      "ORDER BY\n",
      "  dollars\n",
      "  \n"
     ]
    }
   ],
   "source": [
    "def create_faceted_eval_query(dataset_query, model_name):\n",
    "  query=\"\"\"\n",
    "WITH predictions AS (\n",
    "  SELECT\n",
    "    total_fare,\n",
    "    ABS(total_fare - predicted_total_fare)/total_fare AS error,\n",
    "    ROUND(total_fare) AS dollars\n",
    "  FROM\n",
    "  ML.PREDICT(MODEL {0},\n",
    "  (\n",
    "  {1}\n",
    "  )))\n",
    "\n",
    "SELECT\n",
    "  dollars,\n",
    "  -- mean absolute percent error\n",
    "  AVG(100 * error) AS MAPE\n",
    "FROM predictions\n",
    "GROUP BY dollars\n",
    "ORDER BY\n",
    "  dollars\n",
    "  \"\"\".format(model_name, dataset_query)\n",
    "  return query\n",
    "eval_query = create_faceted_eval_query( create_input_dataset('EVAL'), 'demos.taxifare_model')\n",
    "print eval_query"
   ]
  },
  {
   "cell_type": "code",
   "execution_count": 17,
   "metadata": {
    "collapsed": false,
    "deletable": true,
    "editable": true
   },
   "outputs": [
    {
     "data": {
      "text/plain": [
       "(0, 100)"
      ]
     },
     "execution_count": 17,
     "metadata": {},
     "output_type": "execute_result"
    },
    {
     "data": {
      "image/png": "[encoded data removed]",
      "text/plain": [
       "<matplotlib.figure.Figure at 0x7f9ef3ea5190>"
      ]
     },
     "metadata": {},
     "output_type": "display_data"
    }
   ],
   "source": [
    "eval_df = bq.Query(eval_query).execute().result().to_dataframe()\n",
    "ax = eval_df.plot(x='dollars', y='MAPE');\n",
    "ax.set_xlim(5, 25)\n",
    "ax.set_ylim(0,100)"
   ]
  },
  {
   "cell_type": "markdown",
   "metadata": {
    "deletable": true,
    "editable": true
   },
   "source": [
    "Note that the error increases with fare amount."
   ]
  },
  {
   "cell_type": "markdown",
   "metadata": {
    "deletable": true,
    "editable": true
   },
   "source": [
    "## Feature engineering\n",
    "\n",
    "Let's create some features that will improve our prediction result:\n",
    "<ol>\n",
    "<li> Compute distance between pickup and dropoff points as ST_Distance\n",
    "<li> Do a feature cross of day-hour combination to learn traffic\n",
    "<li> Do a feature cross of pickup-droff points to learn tolls\n",
    "</ol>"
   ]
  },
  {
   "cell_type": "code",
   "execution_count": 18,
   "metadata": {
    "collapsed": true,
    "deletable": true,
    "editable": true
   },
   "outputs": [],
   "source": [
    "def create_input_dataset_fc(split, sample=1000):\n",
    "  \"\"\"\n",
    "  split is TRAIN or EVAL\n",
    "  sample=1000 pulls 1/1000 of full dataset\n",
    "  \"\"\"\n",
    "  \n",
    "  query=\"\"\"\n",
    "WITH params AS (\n",
    "  SELECT\n",
    "  0.1 AS RES,\n",
    "  1 AS TRAIN,\n",
    "  2 AS EVAL\n",
    "  ),\n",
    "\n",
    "daynames AS\n",
    "  (SELECT ['Sun', 'Mon', 'Tues', 'Wed', 'Thurs', 'Fri', 'Sat'] AS daysofweek),\n",
    "  \n",
    "taxitrips AS (\n",
    "SELECT\n",
    "  (tolls_amount + fare_amount) AS total_fare,\n",
    "  daysofweek[ORDINAL(EXTRACT(DAYOFWEEK FROM pickup_datetime))] AS dayofweek,\n",
    "  EXTRACT(HOUR FROM pickup_datetime) AS hourofday,\n",
    "  ST_GeogPoint(pickup_longitude, pickup_latitude) AS pickup,\n",
    "  ST_GeogPoint(dropoff_longitude, dropoff_latitude) AS dropoff,\n",
    "  passenger_count AS passengers\n",
    "FROM\n",
    "  `nyc-tlc.yellow.trips`, daynames, params\n",
    "WHERE\n",
    "  trip_distance > 0 AND fare_amount > 0\n",
    "  and fare_amount >= 2.5 and pickup_longitude > -78 and pickup_longitude < -70 \n",
    "      and dropoff_longitude > -78 and dropoff_longitude < -70 and pickup_latitude > 37 \n",
    "      and pickup_latitude < 45 and dropoff_latitude > 37 and dropoff_latitude < 45 \n",
    "      and passenger_count > 0\n",
    "  AND MOD(ABS(FARM_FINGERPRINT(CAST(pickup_datetime AS STRING))),{0}) = params.{1}\n",
    "),\n",
    "\n",
    "feateng AS (\n",
    "  SELECT \n",
    "    total_fare,\n",
    "    ST_Distance(pickup, dropoff) AS euclidean,\n",
    "    CONCAT(dayofweek, CAST(hourofday AS STRING)) AS dayhr_fc,\n",
    "    CONCAT(ST_AsText(ST_SnapToGrid(pickup, params.RES)),\n",
    "           ST_AsText(ST_SnapToGrid(dropoff, params.RES))) AS loc_fc\n",
    "  FROM\n",
    "    taxitrips, params\n",
    ")\n",
    "  \n",
    "  SELECT *\n",
    "  FROM feateng\n",
    "  \"\"\".format(sample, split)\n",
    "  \n",
    "  return query"
   ]
  },
  {
   "cell_type": "markdown",
   "metadata": {
    "deletable": true,
    "editable": true
   },
   "source": [
    "Train:  this will take about <b> 5-10 minutes </b>"
   ]
  },
  {
   "cell_type": "code",
   "execution_count": 119,
   "metadata": {
    "collapsed": false,
    "deletable": true,
    "editable": true
   },
   "outputs": [
    {
     "name": "stdout",
     "output_type": "stream",
     "text": [
      "\n",
      "CREATE or REPLACE MODEL demos.taxifare_model_fc\n",
      "OPTIONS\n",
      "  (model_type='linear_reg', labels=['total_fare'], min_rel_progress=0.005, learn_rate=0.1) AS\n",
      "  \n",
      "  \n",
      "WITH params AS (\n",
      "  SELECT\n",
      "  0.1 AS RES,\n",
      "  1 AS TRAIN,\n",
      "  2 AS EVAL\n",
      "  ),\n",
      "\n",
      "daynames AS\n",
      "  (SELECT ['Sun', 'Mon', 'Tues', 'Wed', 'Thurs', 'Fri', 'Sat'] AS daysofweek),\n",
      "  \n",
      "taxitrips AS (\n",
      "SELECT\n",
      "  (tolls_amount + fare_amount) AS total_fare,\n",
      "  daysofweek[ORDINAL(EXTRACT(DAYOFWEEK FROM pickup_datetime))] AS dayofweek,\n",
      "  EXTRACT(HOUR FROM pickup_datetime) AS hourofday,\n",
      "  ST_GeogPoint(pickup_longitude, pickup_latitude) AS pickup,\n",
      "  ST_GeogPoint(dropoff_longitude, dropoff_latitude) AS dropoff,\n",
      "  passenger_count AS passengers\n",
      "FROM\n",
      "  `nyc-tlc.yellow.trips`, daynames, params\n",
      "WHERE\n",
      "  trip_distance > 0 AND fare_amount > 0\n",
      "  and fare_amount >= 2.5 and pickup_longitude > -78 and pickup_longitude < -70 \n",
      "      and dropoff_longitude > -78 and dropoff_longitude < -70 and pickup_latitude > 37 \n",
      "      and pickup_latitude < 45 and dropoff_latitude > 37 and dropoff_latitude < 45 \n",
      "      and passenger_count > 0\n",
      "  AND MOD(ABS(FARM_FINGERPRINT(CAST(pickup_datetime AS STRING))),1000) = params.TRAIN\n",
      "),\n",
      "\n",
      "feateng AS (\n",
      "  SELECT \n",
      "    total_fare,\n",
      "    ST_Distance(pickup, dropoff) AS euclidean,\n",
      "    CONCAT(dayofweek, CAST(hourofday AS STRING)) AS dayhr_fc,\n",
      "    CONCAT(ST_AsText(ST_SnapToGrid(pickup, params.RES)),\n",
      "           ST_AsText(ST_SnapToGrid(dropoff, params.RES))) AS loc_fc\n",
      "  FROM\n",
      "    taxitrips, params\n",
      ")\n",
      "  \n",
      "  SELECT *\n",
      "  FROM feateng\n",
      "  \n",
      "  \n",
      "  \n"
     ]
    },
    {
     "data": {
      "text/plain": [
       "Job cloud-training-demos/job_Fp_nab19h__rjn9J8T6CDb_-bH37 completed"
      ]
     },
     "execution_count": 119,
     "metadata": {},
     "output_type": "execute_result"
    }
   ],
   "source": [
    "train_query = create_train_query( create_input_dataset_fc('TRAIN'), 'demos.taxifare_model_fc' )\n",
    "print train_query\n",
    "bq.Query(train_query).execute()"
   ]
  },
  {
   "cell_type": "markdown",
   "metadata": {
    "deletable": true,
    "editable": true
   },
   "source": [
    "Evaluate the model once it is trained."
   ]
  },
  {
   "cell_type": "code",
   "execution_count": 120,
   "metadata": {
    "collapsed": false,
    "deletable": true,
    "editable": true
   },
   "outputs": [
    {
     "name": "stdout",
     "output_type": "stream",
     "text": [
      "SELECT iteration, training_loss from demos.taxifare_model_fc_eval\n"
     ]
    },
    {
     "data": {
      "image/png": "[encoded data removed]",
      "text/plain": [
       "<matplotlib.figure.Figure at 0x7fedb1f55390>"
      ]
     },
     "metadata": {},
     "output_type": "display_data"
    }
   ],
   "source": [
    "show_training_loss('demos.taxifare_model_fc')"
   ]
  },
  {
   "cell_type": "code",
   "execution_count": 121,
   "metadata": {
    "collapsed": false,
    "deletable": true,
    "editable": true
   },
   "outputs": [
    {
     "data": {
      "text/html": [
       "<div>\n",
       "<style scoped>\n",
       "    .dataframe tbody tr th:only-of-type {\n",
       "        vertical-align: middle;\n",
       "    }\n",
       "\n",
       "    .dataframe tbody tr th {\n",
       "        vertical-align: top;\n",
       "    }\n",
       "\n",
       "    .dataframe thead th {\n",
       "        text-align: right;\n",
       "    }\n",
       "</style>\n",
       "<table border=\"1\" class=\"dataframe\">\n",
       "  <thead>\n",
       "    <tr style=\"text-align: right;\">\n",
       "      <th></th>\n",
       "      <th>mean_absolute_error</th>\n",
       "      <th>mean_squared_error</th>\n",
       "      <th>mean_squared_log_error</th>\n",
       "      <th>median_absolute_error</th>\n",
       "      <th>r2_score</th>\n",
       "      <th>explained_variance</th>\n",
       "      <th>rmse</th>\n",
       "    </tr>\n",
       "  </thead>\n",
       "  <tbody>\n",
       "    <tr>\n",
       "      <th>0</th>\n",
       "      <td>2.961521</td>\n",
       "      <td>25.838481</td>\n",
       "      <td>0.101598</td>\n",
       "      <td>2.040024</td>\n",
       "      <td>0.712466</td>\n",
       "      <td>0.713197</td>\n",
       "      <td>5.083157</td>\n",
       "    </tr>\n",
       "  </tbody>\n",
       "</table>\n",
       "</div>"
      ],
      "text/plain": [
       "   mean_absolute_error  mean_squared_error  mean_squared_log_error  \\\n",
       "0             2.961521           25.838481                0.101598   \n",
       "\n",
       "   median_absolute_error  r2_score  explained_variance      rmse  \n",
       "0               2.040024  0.712466            0.713197  5.083157  "
      ]
     },
     "execution_count": 121,
     "metadata": {},
     "output_type": "execute_result"
    }
   ],
   "source": [
    "eval_query = create_eval_query( create_input_dataset_fc('EVAL'), 'demos.taxifare_model_fc' )\n",
    "eval_df = bq.Query(eval_query).execute().result().to_dataframe()\n",
    "eval_df"
   ]
  },
  {
   "cell_type": "code",
   "execution_count": 122,
   "metadata": {
    "collapsed": false,
    "deletable": true,
    "editable": true
   },
   "outputs": [
    {
     "data": {
      "text/plain": [
       "(0, 100)"
      ]
     },
     "execution_count": 122,
     "metadata": {},
     "output_type": "execute_result"
    },
    {
     "data": {
      "image/png": "[encoded data removed]",
      "text/plain": [
       "<matplotlib.figure.Figure at 0x7fedb1f19110>"
      ]
     },
     "metadata": {},
     "output_type": "display_data"
    }
   ],
   "source": [
    "eval_query = create_faceted_eval_query( create_input_dataset_fc('EVAL'), 'demos.taxifare_model_fc')\n",
    "eval_df = bq.Query(eval_query).execute().result().to_dataframe()\n",
    "ax = eval_df.plot(x='dollars', y='MAPE');\n",
    "ax.set_xlim(5, 25)\n",
    "ax.set_ylim(0,100)"
   ]
  },
  {
   "cell_type": "markdown",
   "metadata": {
    "deletable": true,
    "editable": true
   },
   "source": [
    "Notice that, with the feature crosses and spatial functions, we have gotten a lower RMSE and somewhat addressed the problem of errors increasing with fare amount."
   ]
  },
  {
   "cell_type": "markdown",
   "metadata": {
    "deletable": true,
    "editable": true
   },
   "source": [
    "## More data?\n",
    "\n",
    "What if we train on more data? Note the sample=100 to use 10 million rows.  This will take <b> 10-15 min </b>"
   ]
  },
  {
   "cell_type": "code",
   "execution_count": 123,
   "metadata": {
    "collapsed": false,
    "deletable": true,
    "editable": true
   },
   "outputs": [
    {
     "data": {
      "text/plain": [
       "Job cloud-training-demos/job_y1qhXO3-pc9756fk8iC5KGvVYrFZ completed"
      ]
     },
     "execution_count": 123,
     "metadata": {},
     "output_type": "execute_result"
    }
   ],
   "source": [
    "train_query = create_train_query( create_input_dataset_fc('TRAIN', sample=100), 'demos.taxifare_model_fc10' )\n",
    "bq.Query(train_query).execute()"
   ]
  },
  {
   "cell_type": "code",
   "execution_count": 124,
   "metadata": {
    "collapsed": false,
    "deletable": true,
    "editable": true
   },
   "outputs": [
    {
     "name": "stdout",
     "output_type": "stream",
     "text": [
      "SELECT iteration, training_loss from demos.taxifare_model_fc10_eval\n"
     ]
    },
    {
     "data": {
      "image/png": "[encoded data removed]",
      "text/plain": [
       "<matplotlib.figure.Figure at 0x7fedb1f87310>"
      ]
     },
     "metadata": {},
     "output_type": "display_data"
    }
   ],
   "source": [
    "show_training_loss('demos.taxifare_model_fc10')"
   ]
  },
  {
   "cell_type": "code",
   "execution_count": 125,
   "metadata": {
    "collapsed": false,
    "deletable": true,
    "editable": true
   },
   "outputs": [
    {
     "data": {
      "text/html": [
       "<div>\n",
       "<style scoped>\n",
       "    .dataframe tbody tr th:only-of-type {\n",
       "        vertical-align: middle;\n",
       "    }\n",
       "\n",
       "    .dataframe tbody tr th {\n",
       "        vertical-align: top;\n",
       "    }\n",
       "\n",
       "    .dataframe thead th {\n",
       "        text-align: right;\n",
       "    }\n",
       "</style>\n",
       "<table border=\"1\" class=\"dataframe\">\n",
       "  <thead>\n",
       "    <tr style=\"text-align: right;\">\n",
       "      <th></th>\n",
       "      <th>mean_absolute_error</th>\n",
       "      <th>mean_squared_error</th>\n",
       "      <th>mean_squared_log_error</th>\n",
       "      <th>median_absolute_error</th>\n",
       "      <th>r2_score</th>\n",
       "      <th>explained_variance</th>\n",
       "      <th>rmse</th>\n",
       "    </tr>\n",
       "  </thead>\n",
       "  <tbody>\n",
       "    <tr>\n",
       "      <th>0</th>\n",
       "      <td>2.979147</td>\n",
       "      <td>25.516452</td>\n",
       "      <td>0.102704</td>\n",
       "      <td>2.056546</td>\n",
       "      <td>0.716049</td>\n",
       "      <td>0.716749</td>\n",
       "      <td>5.051381</td>\n",
       "    </tr>\n",
       "  </tbody>\n",
       "</table>\n",
       "</div>"
      ],
      "text/plain": [
       "   mean_absolute_error  mean_squared_error  mean_squared_log_error  \\\n",
       "0             2.979147           25.516452                0.102704   \n",
       "\n",
       "   median_absolute_error  r2_score  explained_variance      rmse  \n",
       "0               2.056546  0.716049            0.716749  5.051381  "
      ]
     },
     "execution_count": 125,
     "metadata": {},
     "output_type": "execute_result"
    }
   ],
   "source": [
    "eval_query = create_eval_query( create_input_dataset_fc('EVAL'), 'demos.taxifare_model_fc10' )\n",
    "eval_df = bq.Query(eval_query).execute().result().to_dataframe()\n",
    "eval_df"
   ]
  },
  {
   "cell_type": "markdown",
   "metadata": {
    "deletable": true,
    "editable": true
   },
   "source": [
    "It's better (\\$5.05 vs \\$5.08, but not that much better). We have to experiment with changing the resolution of the feature cross also -- because we have more data, it is possible that we could use more feature crosses"
   ]
  },
  {
   "cell_type": "code",
   "execution_count": 126,
   "metadata": {
    "collapsed": false,
    "deletable": true,
    "editable": true
   },
   "outputs": [
    {
     "data": {
      "text/plain": [
       "(0, 100)"
      ]
     },
     "execution_count": 126,
     "metadata": {},
     "output_type": "execute_result"
    },
    {
     "data": {
      "image/png": "[encoded data removed]",
      "text/plain": [
       "<matplotlib.figure.Figure at 0x7fedb1f871d0>"
      ]
     },
     "metadata": {},
     "output_type": "display_data"
    }
   ],
   "source": [
    "eval_query = create_faceted_eval_query( create_input_dataset_fc('EVAL'), 'demos.taxifare_model_fc10')\n",
    "eval_df = bq.Query(eval_query).execute().result().to_dataframe()\n",
    "ax = eval_df.plot(x='dollars', y='MAPE');\n",
    "ax.set_xlim(5, 25)\n",
    "ax.set_ylim(0,100)"
   ]
  },
  {
   "cell_type": "markdown",
   "metadata": {
    "deletable": true,
    "editable": true
   },
   "source": [
    "## Geo visualization\n",
    "\n",
    "Instead of grouping by the total amount, we can group by a spatial thing. Let's look at how the taxifare error varies depending on the dropoff point, by running the following query in the BigQuery Geo Viz:\n",
    "<pre>\n",
    "WITH predictions AS (\n",
    "  SELECT\n",
    "    ABS(total_fare - predicted_total_fare)/total_fare AS error,\n",
    "    total_fare, pickup_gridpt, dropoff_gridpt\n",
    "  FROM\n",
    "  ML.PREDICT(MODEL demos.taxifare_model_fc,\n",
    "  (\n",
    "  \n",
    "WITH params AS (\n",
    "  SELECT\n",
    "  0.1 AS RES,\n",
    "  1 AS TRAIN,\n",
    "  2 AS EVAL\n",
    "  ),\n",
    "daynames AS\n",
    "  (SELECT ['Sun', 'Mon', 'Tues', 'Wed', 'Thurs', 'Fri', 'Sat'] AS daysofweek),\n",
    "  \n",
    "taxitrips AS (\n",
    "SELECT\n",
    "  (tolls_amount + fare_amount) AS total_fare,\n",
    "  daysofweek[ORDINAL(EXTRACT(DAYOFWEEK FROM pickup_datetime))] AS dayofweek,\n",
    "  EXTRACT(HOUR FROM pickup_datetime) AS hourofday,\n",
    "  ST_GeogPoint(pickup_longitude, pickup_latitude) AS pickup,\n",
    "  ST_GeogPoint(dropoff_longitude, dropoff_latitude) AS dropoff,\n",
    "  passenger_count AS passengers\n",
    "FROM\n",
    "  `nyc-tlc.yellow.trips`, daynames, params\n",
    "WHERE\n",
    "  trip_distance > 0 AND fare_amount > 0\n",
    "  and fare_amount >= 2.5 and pickup_longitude > -78 and pickup_longitude < -70 \n",
    "      and dropoff_longitude > -78 and dropoff_longitude < -70 and pickup_latitude > 37 \n",
    "      and pickup_latitude < 45 and dropoff_latitude > 37 and dropoff_latitude < 45 \n",
    "      and passenger_count > 0\n",
    "  AND MOD(ABS(FARM_FINGERPRINT(CAST(pickup_datetime AS STRING))),1000) = params.EVAL\n",
    "),\n",
    "feateng AS (\n",
    "  SELECT \n",
    "    total_fare,\n",
    "    ST_Distance(pickup, dropoff) AS euclidean,\n",
    "    CONCAT(dayofweek, CAST(hourofday AS STRING)) AS dayhr_fc,\n",
    "    CONCAT(ST_AsText(ST_SnapToGrid(pickup, params.RES)),\n",
    "           ST_AsText(ST_SnapToGrid(dropoff, params.RES))) AS loc_fc,\n",
    "    ST_AsText(ST_SnapToGrid(pickup, params.RES)) AS pickup_gridpt,\n",
    "    ST_AsText(ST_SnapToGrid(dropoff, params.RES)) AS dropoff_gridpt\n",
    "  FROM\n",
    "    taxitrips, params\n",
    ")\n",
    "  \n",
    "  SELECT *\n",
    "  FROM feateng\n",
    "  \n",
    "  )))\n",
    "SELECT\n",
    "  dropoff_gridpt,\n",
    "  COUNT(error) AS numpts,\n",
    "  -- mean absolute percent error\n",
    "  AVG(100 * error) AS MAPE\n",
    "FROM predictions\n",
    "GROUP BY dropoff_gridpt\n",
    "HAVING numpts > 100\n",
    "</pre>\n"
   ]
  },
  {
   "cell_type": "markdown",
   "metadata": {
    "deletable": true,
    "editable": true
   },
   "source": [
    "Copyright 2018 Google Inc. Licensed under the Apache License, Version 2.0 (the \"License\"); you may not use this file except in compliance with the License. You may obtain a copy of the License at http://www.apache.org/licenses/LICENSE-2.0 Unless required by applicable law or agreed to in writing, software distributed under the License is distributed on an \"AS IS\" BASIS, WITHOUT WARRANTIES OR CONDITIONS OF ANY KIND, either express or implied. See the License for the specific language governing permissions and limitations under the License"
   ]
  },
  {
   "cell_type": "code",
   "execution_count": null,
   "metadata": {
    "collapsed": true,
    "deletable": true,
    "editable": true
   },
   "outputs": [],
   "source": []
  }
 ],
 "metadata": {
  "kernelspec": {
   "display_name": "Python 2",
   "language": "python",
   "name": "python2"
  },
  "language_info": {
   "codemirror_mode": {
    "name": "ipython",
    "version": 2
   },
   "file_extension": ".py",
   "mimetype": "text/x-python",
   "name": "python",
   "nbconvert_exporter": "python",
   "pygments_lexer": "ipython2",
   "version": "2.7.15"
  }
 },
 "nbformat": 4,
 "nbformat_minor": 2
}
