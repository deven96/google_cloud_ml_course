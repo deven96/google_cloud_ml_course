{
 "cells": [
  {
   "cell_type": "markdown",
   "metadata": {},
   "source": [
    "# Convolutional Neural Network on pixel neighborhoods\n",
    "\n",
    "This notebook reads the pixel-neighborhood data written out by the Dataflow program of [1_explore.ipynb](./1_explore.ipynb) and trains a simple convnet model on Cloud ML Engine.\n"
   ]
  },
  {
   "cell_type": "code",
   "execution_count": 1,
   "metadata": {},
   "outputs": [],
   "source": [
    "BUCKET = 'cloud-training-demos-ml'\n",
    "PROJECT = 'cloud-training-demos'\n",
    "REGION = 'us-central1'"
   ]
  },
  {
   "cell_type": "code",
   "execution_count": 2,
   "metadata": {},
   "outputs": [],
   "source": [
    "import os\n",
    "os.environ['BUCKET'] = BUCKET\n",
    "os.environ['PROJECT'] = PROJECT\n",
    "os.environ['REGION'] = REGION"
   ]
  },
  {
   "cell_type": "code",
   "execution_count": 3,
   "metadata": {},
   "outputs": [
    {
     "name": "stderr",
     "output_type": "stream",
     "text": [
      "Updated property [core/project].\n",
      "Updated property [compute/region].\n"
     ]
    }
   ],
   "source": [
    "%%bash\n",
    "gcloud config set project $PROJECT\n",
    "gcloud config set compute/region $REGION"
   ]
  },
  {
   "cell_type": "code",
   "execution_count": null,
   "metadata": {},
   "outputs": [],
   "source": [
    "%%bash\n",
    "if ! gsutil ls | grep -q gs://${BUCKET}/; then\n",
    "  gsutil mb -l ${REGION} gs://${BUCKET}\n",
    "fi"
   ]
  },
  {
   "cell_type": "markdown",
   "metadata": {},
   "source": [
    "## Train CNN model locally"
   ]
  },
  {
   "cell_type": "code",
   "execution_count": null,
   "metadata": {},
   "outputs": [],
   "source": [
    "%%bash\n",
    "OUTDIR=${PWD}/cnn_trained\n",
    "DATADIR=${PWD}/preproc/tfrecord\n",
    "rm -rf $OUTDIR\n",
    "gcloud ml-engine local train \\\n",
    "    --module-name=trainer.train_cnn --package-path=${PWD}/ltgpred/trainer \\\n",
    "    -- \\\n",
    "    --train_steps=5 --num_eval_records=512 --train_batch_size=1 --num_cores=1 \\\n",
    "    --job-dir=$OUTDIR --train_data_path=${DATADIR}/train* --eval_data_path=${DATADIR}/eval*"
   ]
  },
  {
   "cell_type": "markdown",
   "metadata": {},
   "source": [
    "## Training lighting prediction model on CMLE using GPU"
   ]
  },
  {
   "cell_type": "markdown",
   "metadata": {},
   "source": [
    "Let's train on a machine with 4 GPUs."
   ]
  },
  {
   "cell_type": "code",
   "execution_count": 12,
   "metadata": {},
   "outputs": [
    {
     "name": "stdout",
     "output_type": "stream",
     "text": [
      "Overwriting largemachine.yaml\n"
     ]
    }
   ],
   "source": [
    "%writefile largemachine.yaml\n",
    "trainingInput:\n",
    "  scaleTier: CUSTOM\n",
    "  masterType: complex_model_m_gpu"
   ]
  },
  {
   "cell_type": "code",
   "execution_count": 6,
   "metadata": {},
   "outputs": [
    {
     "name": "stdout",
     "output_type": "stream",
     "text": [
      "jobId: ltgpred_cnn_180926_212917\n",
      "state: QUEUED\n"
     ]
    },
    {
     "name": "stderr",
     "output_type": "stream",
     "text": [
      "Removing gs://cloud-training-demos-ml/lightning/cnn_trained_gpu/packages/12c1a2acd7230b7448e2a1bbb90d632711e0cafc87df2e6e14fbfc2371ffb0f6/ltgpred-0.0.1.tar.gz#1537983488310425...\n",
      "/ [1/1 objects] 100% Done                                                       \r\n",
      "Operation completed over 1 objects.                                              \n",
      "Job [ltgpred_cnn_180926_212917] submitted successfully.\n",
      "Your job is still active. You may view the status of your job with the command\n",
      "\n",
      "  $ gcloud ml-engine jobs describe ltgpred_cnn_180926_212917\n",
      "\n",
      "or continue streaming the logs with the command\n",
      "\n",
      "  $ gcloud ml-engine jobs stream-logs ltgpred_cnn_180926_212917\n"
     ]
    }
   ],
   "source": [
    "%%bash\n",
    "OUTDIR=gs://${BUCKET}/lightning/cnn_trained_gpu\n",
    "DATADIR=gs://$BUCKET/lightning/preproc/tfrecord\n",
    "JOBNAME=ltgpred_cnn_$(date -u +%y%m%d_%H%M%S)\n",
    "gsutil -m rm -rf $OUTDIR\n",
    "gcloud ml-engine jobs submit training $JOBNAME \\\n",
    "    --module-name=trainer.train_cnn --package-path=${PWD}/ltgpred/trainer --job-dir=$OUTDIR \\\n",
    "    --region=${REGION} --scale-tier=CUSTOM --config=largemachine.yaml \\\n",
    "    --python-version=3.5 --runtime-version=1.8 \\\n",
    "    -- \\\n",
    "    --train_data_path=${DATADIR}/train-* --eval_data_path=${DATADIR}/eval* \\\n",
    "    --train_steps=10000 --train_batch_size=256 \\\n",
    "    --num_eval_records=128000 --nlayers=5 --dprob=0.05 --ksize=3 --nfil=100"
   ]
  },
  {
   "cell_type": "markdown",
   "metadata": {},
   "source": [
    "The training completed after 20 minutes with this result:\n",
    "<pre>\n",
    "Eval results at step 10000: {'global_step': 10000, 'rmse': 0.49927762, 'accuracy': 0.6623125, 'loss': 0.6917048}\n",
    "</pre>\n",
    "Training longer (100,000 steps, for 2 hours) didn't seem to do much:\n",
    "<pre>\n",
    "Eval results at step 100000: {'loss': 0.6889524, 'accuracy': 0.6721641, 'global_step': 100000, 'rmse': 0.4978987}\n",
    "</pre>\n",
    "Increasing the number of layers from 3 to 5 and lowering the dropout to 0.05 didn't help either."
   ]
  },
  {
   "cell_type": "markdown",
   "metadata": {},
   "source": [
    "## Training lightning prediction model on CMLE using TPUs"
   ]
  },
  {
   "cell_type": "code",
   "execution_count": null,
   "metadata": {},
   "outputs": [],
   "source": [
    "%%bash\n",
    "OUTDIR=gs://${BUCKET}/lightning/cnn_trained\n",
    "DATADIR=gs://$BUCKET/lightning/preproc/tfrecord\n",
    "JOBNAME=ltgpred_cnn_$(date -u +%y%m%d_%H%M%S)\n",
    "gsutil -m rm -rf $OUTDIR\n",
    "gcloud ml-engine jobs submit training $JOBNAME \\\n",
    "    --module-name=trainer.train_cnn --package-path=${PWD}/ltgpred/trainer --job-dir=$OUTDIR \\\n",
    "    --region=${REGION} --scale-tier=BASIC_TPU \\\n",
    "    --python-version=3.5 --runtime-version=1.8 \\\n",
    "    -- \\\n",
    "    --train_data_path=${DATADIR}/train* --eval_data_path=${DATADIR}/eval* \\\n",
    "    --train_steps=10000 --train_batch_size=1024 \\\n",
    "    --num_eval_records=128000 --nlayers=0 --num_cores=32 --use_tpu"
   ]
  },
  {
   "cell_type": "markdown",
   "metadata": {},
   "source": [
    "# When I ran it, training finished with accuracy=???\n"
   ]
  },
  {
   "cell_type": "code",
   "execution_count": null,
   "metadata": {},
   "outputs": [],
   "source": []
  },
  {
   "cell_type": "markdown",
   "metadata": {},
   "source": [
    "Copyright 2018 Google Inc. Licensed under the Apache License, Version 2.0 (the \\\"License\\\"); you may not use this file except in compliance with the License. You may obtain a copy of the License at http://www.apache.org/licenses/LICENSE-2.0 Unless required by applicable law or agreed to in writing, software distributed under the License is distributed on an \\\"AS IS\\\" BASIS, WITHOUT WARRANTIES OR CONDITIONS OF ANY KIND, either express or implied. See the License for the specific language governing permissions and limitations under the License"
   ]
  },
  {
   "cell_type": "code",
   "execution_count": null,
   "metadata": {},
   "outputs": [],
   "source": []
  }
 ],
 "metadata": {
  "kernelspec": {
   "display_name": "Python 3",
   "language": "python",
   "name": "python3"
  },
  "language_info": {
   "codemirror_mode": {
    "name": "ipython",
    "version": 3
   },
   "file_extension": ".py",
   "mimetype": "text/x-python",
   "name": "python",
   "nbconvert_exporter": "python",
   "pygments_lexer": "ipython3",
   "version": "3.5.5"
  }
 },
 "nbformat": 4,
 "nbformat_minor": 2
}
